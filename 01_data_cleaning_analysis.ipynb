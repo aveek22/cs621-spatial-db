{
 "metadata": {
  "language_info": {
   "codemirror_mode": {
    "name": "ipython",
    "version": 3
   },
   "file_extension": ".py",
   "mimetype": "text/x-python",
   "name": "python",
   "nbconvert_exporter": "python",
   "pygments_lexer": "ipython3",
   "version": "3.7.3-final"
  },
  "orig_nbformat": 2,
  "kernelspec": {
   "name": "python3",
   "display_name": "Python 3.7.3 64-bit",
   "metadata": {
    "interpreter": {
     "hash": "e534e48711db4d1e1c48977d0d14ff85b1f16d41bcc4fdfd88268a329b3c9d66"
    }
   }
  }
 },
 "nbformat": 4,
 "nbformat_minor": 2,
 "cells": [
  {
   "cell_type": "code",
   "execution_count": 1,
   "metadata": {},
   "outputs": [],
   "source": [
    "# Import the libraries\n",
    "import os\n",
    "import pandas as pd\n",
    "import geopandas as gpd\n",
    "import sqlalchemy as sql\n",
    "from geoalchemy2 import Geometry, WKTElement"
   ]
  },
  {
   "cell_type": "code",
   "execution_count": 2,
   "metadata": {},
   "outputs": [],
   "source": [
    "# Load the environment variables and constants\n",
    "# Using postgres database to store the data\n",
    "DATBASE_HOST = os.getenv('ENVISO_INSIGHT_DATABASE_HOSTNAME')\n",
    "DATBASE_NAME = 'spatial_db_project'\n",
    "DATBASE_USER = os.getenv('ENVISO_INSIGHT_DATABASE_USERNAME')\n",
    "DATBASE_PASS = os.getenv('ENVISO_INSIGHT_DATABASE_PASSWORD')"
   ]
  },
  {
   "cell_type": "code",
   "execution_count": 3,
   "metadata": {},
   "outputs": [
    {
     "output_type": "execute_result",
     "data": {
      "text/plain": [
       "(34348, 23)"
      ]
     },
     "metadata": {},
     "execution_count": 3
    }
   ],
   "source": [
    "# Load the house price data\n",
    "df_house_price = pd.read_csv('dataset/house_price_data.csv')\n",
    "df_house_price.head()\n",
    "df_house_price.shape"
   ]
  },
  {
   "cell_type": "code",
   "execution_count": 4,
   "metadata": {},
   "outputs": [
    {
     "output_type": "execute_result",
     "data": {
      "text/plain": [
       "id                  0\n",
       "id_string           0\n",
       "city                0\n",
       "locality          208\n",
       "project         14169\n",
       "dev_name        16999\n",
       "furnishing         10\n",
       "area              776\n",
       "bathroom_num       14\n",
       "bedroom_num         0\n",
       "floor_count      2860\n",
       "floor_num        2781\n",
       "latitude            0\n",
       "longitude           0\n",
       "post_date           0\n",
       "poster_name         1\n",
       "price               0\n",
       "title              10\n",
       "trans              30\n",
       "type                0\n",
       "url                10\n",
       "user_type           0\n",
       "desc               10\n",
       "dtype: int64"
      ]
     },
     "metadata": {},
     "execution_count": 4
    }
   ],
   "source": [
    "# Check for NULL values within the dataset\n",
    "df_house_price.isna().sum()"
   ]
  },
  {
   "cell_type": "code",
   "execution_count": 5,
   "metadata": {},
   "outputs": [
    {
     "output_type": "execute_result",
     "data": {
      "text/plain": [
       "         id    city  bedroom_num   latitude  longitude post_date  price  \\\n",
       "0  45349857  Mumbai            1  19.201336  72.825882  11/01/20   9000   \n",
       "1  45960973  Mumbai            1  19.410704  72.833592  11/01/20   8060   \n",
       "2  46688849  Mumbai            1  19.467032  72.801612  13/12/19   8000   \n",
       "3  44696119  Mumbai            1  19.407257  72.836006  13/01/20   8000   \n",
       "4  46742851  Mumbai            1  19.360215  72.850167  17/12/19   9000   \n",
       "\n",
       "        type user_type  \n",
       "0  Apartment     Agent  \n",
       "1  Apartment     Agent  \n",
       "2  Apartment     Agent  \n",
       "3  Apartment     Agent  \n",
       "4  Apartment     Owner  "
      ],
      "text/html": "<div>\n<style scoped>\n    .dataframe tbody tr th:only-of-type {\n        vertical-align: middle;\n    }\n\n    .dataframe tbody tr th {\n        vertical-align: top;\n    }\n\n    .dataframe thead th {\n        text-align: right;\n    }\n</style>\n<table border=\"1\" class=\"dataframe\">\n  <thead>\n    <tr style=\"text-align: right;\">\n      <th></th>\n      <th>id</th>\n      <th>city</th>\n      <th>bedroom_num</th>\n      <th>latitude</th>\n      <th>longitude</th>\n      <th>post_date</th>\n      <th>price</th>\n      <th>type</th>\n      <th>user_type</th>\n    </tr>\n  </thead>\n  <tbody>\n    <tr>\n      <th>0</th>\n      <td>45349857</td>\n      <td>Mumbai</td>\n      <td>1</td>\n      <td>19.201336</td>\n      <td>72.825882</td>\n      <td>11/01/20</td>\n      <td>9000</td>\n      <td>Apartment</td>\n      <td>Agent</td>\n    </tr>\n    <tr>\n      <th>1</th>\n      <td>45960973</td>\n      <td>Mumbai</td>\n      <td>1</td>\n      <td>19.410704</td>\n      <td>72.833592</td>\n      <td>11/01/20</td>\n      <td>8060</td>\n      <td>Apartment</td>\n      <td>Agent</td>\n    </tr>\n    <tr>\n      <th>2</th>\n      <td>46688849</td>\n      <td>Mumbai</td>\n      <td>1</td>\n      <td>19.467032</td>\n      <td>72.801612</td>\n      <td>13/12/19</td>\n      <td>8000</td>\n      <td>Apartment</td>\n      <td>Agent</td>\n    </tr>\n    <tr>\n      <th>3</th>\n      <td>44696119</td>\n      <td>Mumbai</td>\n      <td>1</td>\n      <td>19.407257</td>\n      <td>72.836006</td>\n      <td>13/01/20</td>\n      <td>8000</td>\n      <td>Apartment</td>\n      <td>Agent</td>\n    </tr>\n    <tr>\n      <th>4</th>\n      <td>46742851</td>\n      <td>Mumbai</td>\n      <td>1</td>\n      <td>19.360215</td>\n      <td>72.850167</td>\n      <td>17/12/19</td>\n      <td>9000</td>\n      <td>Apartment</td>\n      <td>Owner</td>\n    </tr>\n  </tbody>\n</table>\n</div>"
     },
     "metadata": {},
     "execution_count": 5
    }
   ],
   "source": [
    "# To keep things simple, we will start by removing the fields that have NULL values\n",
    "# This will make our life easier\n",
    "# Prepare a list of columns to be dropped\n",
    "list_columns_dropped = ['id_string','locality','project','dev_name','furnishing','area','bathroom_num','floor_count','floor_num','poster_name','title','trans','url','desc']\n",
    "df_house_price = df_house_price.drop(labels = list_columns_dropped, axis = 1)\n",
    "df_house_price.head()"
   ]
  },
  {
   "cell_type": "code",
   "execution_count": 6,
   "metadata": {},
   "outputs": [
    {
     "output_type": "execute_result",
     "data": {
      "text/plain": [
       "id               int64\n",
       "city            object\n",
       "bedroom_num      int64\n",
       "latitude       float64\n",
       "longitude      float64\n",
       "post_date       object\n",
       "price            int64\n",
       "type            object\n",
       "user_type       object\n",
       "dtype: object"
      ]
     },
     "metadata": {},
     "execution_count": 6
    }
   ],
   "source": [
    "# Check the datatype of the column post_date\n",
    "df_house_price.dtypes"
   ]
  },
  {
   "cell_type": "code",
   "execution_count": 7,
   "metadata": {},
   "outputs": [
    {
     "output_type": "execute_result",
     "data": {
      "text/plain": [
       "         id    city  bedroom_num   latitude  longitude  post_date  price  \\\n",
       "0  45349857  Mumbai            1  19.201336  72.825882 2020-11-01   9000   \n",
       "1  45960973  Mumbai            1  19.410704  72.833592 2020-11-01   8060   \n",
       "2  46688849  Mumbai            1  19.467032  72.801612 2019-12-13   8000   \n",
       "3  44696119  Mumbai            1  19.407257  72.836006 2020-01-13   8000   \n",
       "4  46742851  Mumbai            1  19.360215  72.850167 2019-12-17   9000   \n",
       "\n",
       "        type user_type  \n",
       "0  Apartment     Agent  \n",
       "1  Apartment     Agent  \n",
       "2  Apartment     Agent  \n",
       "3  Apartment     Agent  \n",
       "4  Apartment     Owner  "
      ],
      "text/html": "<div>\n<style scoped>\n    .dataframe tbody tr th:only-of-type {\n        vertical-align: middle;\n    }\n\n    .dataframe tbody tr th {\n        vertical-align: top;\n    }\n\n    .dataframe thead th {\n        text-align: right;\n    }\n</style>\n<table border=\"1\" class=\"dataframe\">\n  <thead>\n    <tr style=\"text-align: right;\">\n      <th></th>\n      <th>id</th>\n      <th>city</th>\n      <th>bedroom_num</th>\n      <th>latitude</th>\n      <th>longitude</th>\n      <th>post_date</th>\n      <th>price</th>\n      <th>type</th>\n      <th>user_type</th>\n    </tr>\n  </thead>\n  <tbody>\n    <tr>\n      <th>0</th>\n      <td>45349857</td>\n      <td>Mumbai</td>\n      <td>1</td>\n      <td>19.201336</td>\n      <td>72.825882</td>\n      <td>2020-11-01</td>\n      <td>9000</td>\n      <td>Apartment</td>\n      <td>Agent</td>\n    </tr>\n    <tr>\n      <th>1</th>\n      <td>45960973</td>\n      <td>Mumbai</td>\n      <td>1</td>\n      <td>19.410704</td>\n      <td>72.833592</td>\n      <td>2020-11-01</td>\n      <td>8060</td>\n      <td>Apartment</td>\n      <td>Agent</td>\n    </tr>\n    <tr>\n      <th>2</th>\n      <td>46688849</td>\n      <td>Mumbai</td>\n      <td>1</td>\n      <td>19.467032</td>\n      <td>72.801612</td>\n      <td>2019-12-13</td>\n      <td>8000</td>\n      <td>Apartment</td>\n      <td>Agent</td>\n    </tr>\n    <tr>\n      <th>3</th>\n      <td>44696119</td>\n      <td>Mumbai</td>\n      <td>1</td>\n      <td>19.407257</td>\n      <td>72.836006</td>\n      <td>2020-01-13</td>\n      <td>8000</td>\n      <td>Apartment</td>\n      <td>Agent</td>\n    </tr>\n    <tr>\n      <th>4</th>\n      <td>46742851</td>\n      <td>Mumbai</td>\n      <td>1</td>\n      <td>19.360215</td>\n      <td>72.850167</td>\n      <td>2019-12-17</td>\n      <td>9000</td>\n      <td>Apartment</td>\n      <td>Owner</td>\n    </tr>\n  </tbody>\n</table>\n</div>"
     },
     "metadata": {},
     "execution_count": 7
    }
   ],
   "source": [
    "# Convert the post_date datatype from object to timestamp\n",
    "# object datatype in pandas is string in basic python\n",
    "df_house_price['post_date'] = pd.to_datetime(df_house_price['post_date'])\n",
    "df_house_price.head()"
   ]
  },
  {
   "cell_type": "code",
   "execution_count": 8,
   "metadata": {},
   "outputs": [
    {
     "output_type": "execute_result",
     "data": {
      "text/plain": [
       "         id    city  bedroom_num   latitude  longitude  post_date  price  \\\n",
       "0  45349857  Mumbai            1  19.201336  72.825882 2020-11-01   9000   \n",
       "1  45960973  Mumbai            1  19.410704  72.833592 2020-11-01   8060   \n",
       "2  46688849  Mumbai            1  19.467032  72.801612 2019-12-13   8000   \n",
       "3  44696119  Mumbai            1  19.407257  72.836006 2020-01-13   8000   \n",
       "4  46742851  Mumbai            1  19.360215  72.850167 2019-12-17   9000   \n",
       "\n",
       "        type user_type                   geometry  \n",
       "0  Apartment     Agent  POINT (72.82588 19.20134)  \n",
       "1  Apartment     Agent  POINT (72.83359 19.41070)  \n",
       "2  Apartment     Agent  POINT (72.80161 19.46703)  \n",
       "3  Apartment     Agent  POINT (72.83601 19.40726)  \n",
       "4  Apartment     Owner  POINT (72.85017 19.36022)  "
      ],
      "text/html": "<div>\n<style scoped>\n    .dataframe tbody tr th:only-of-type {\n        vertical-align: middle;\n    }\n\n    .dataframe tbody tr th {\n        vertical-align: top;\n    }\n\n    .dataframe thead th {\n        text-align: right;\n    }\n</style>\n<table border=\"1\" class=\"dataframe\">\n  <thead>\n    <tr style=\"text-align: right;\">\n      <th></th>\n      <th>id</th>\n      <th>city</th>\n      <th>bedroom_num</th>\n      <th>latitude</th>\n      <th>longitude</th>\n      <th>post_date</th>\n      <th>price</th>\n      <th>type</th>\n      <th>user_type</th>\n      <th>geometry</th>\n    </tr>\n  </thead>\n  <tbody>\n    <tr>\n      <th>0</th>\n      <td>45349857</td>\n      <td>Mumbai</td>\n      <td>1</td>\n      <td>19.201336</td>\n      <td>72.825882</td>\n      <td>2020-11-01</td>\n      <td>9000</td>\n      <td>Apartment</td>\n      <td>Agent</td>\n      <td>POINT (72.82588 19.20134)</td>\n    </tr>\n    <tr>\n      <th>1</th>\n      <td>45960973</td>\n      <td>Mumbai</td>\n      <td>1</td>\n      <td>19.410704</td>\n      <td>72.833592</td>\n      <td>2020-11-01</td>\n      <td>8060</td>\n      <td>Apartment</td>\n      <td>Agent</td>\n      <td>POINT (72.83359 19.41070)</td>\n    </tr>\n    <tr>\n      <th>2</th>\n      <td>46688849</td>\n      <td>Mumbai</td>\n      <td>1</td>\n      <td>19.467032</td>\n      <td>72.801612</td>\n      <td>2019-12-13</td>\n      <td>8000</td>\n      <td>Apartment</td>\n      <td>Agent</td>\n      <td>POINT (72.80161 19.46703)</td>\n    </tr>\n    <tr>\n      <th>3</th>\n      <td>44696119</td>\n      <td>Mumbai</td>\n      <td>1</td>\n      <td>19.407257</td>\n      <td>72.836006</td>\n      <td>2020-01-13</td>\n      <td>8000</td>\n      <td>Apartment</td>\n      <td>Agent</td>\n      <td>POINT (72.83601 19.40726)</td>\n    </tr>\n    <tr>\n      <th>4</th>\n      <td>46742851</td>\n      <td>Mumbai</td>\n      <td>1</td>\n      <td>19.360215</td>\n      <td>72.850167</td>\n      <td>2019-12-17</td>\n      <td>9000</td>\n      <td>Apartment</td>\n      <td>Owner</td>\n      <td>POINT (72.85017 19.36022)</td>\n    </tr>\n  </tbody>\n</table>\n</div>"
     },
     "metadata": {},
     "execution_count": 8
    }
   ],
   "source": [
    "# Convert the pandas dataframe to a geopandas dataframe\n",
    "# This will make a geometry column based on the latitude and longitude\n",
    "gdf_house_price = gpd.GeoDataFrame(df_house_price, geometry = gpd.points_from_xy(df_house_price.longitude, df_house_price.latitude),  crs=\"EPSG:4326\")\n",
    "gdf_house_price.head()"
   ]
  },
  {
   "cell_type": "code",
   "execution_count": 9,
   "metadata": {},
   "outputs": [],
   "source": [
    "# Insert the raw data into postgres table\n",
    "# Create the database engine first\n",
    "connection_string = f'postgresql://{DATBASE_USER}:{DATBASE_PASS}@{DATBASE_HOST}:5432/{DATBASE_NAME}'\n",
    "db_engine = sql.create_engine(connection_string)\n",
    "\n",
    "# Insert the data into a table in postgres\n",
    "gdf_house_price.to_postgis(\n",
    "    name = 'house_price_raw',\n",
    "    con = db_engine,\n",
    "    if_exists = 'replace',\n",
    "    index = False\n",
    ")"
   ]
  },
  {
   "cell_type": "code",
   "execution_count": null,
   "metadata": {},
   "outputs": [],
   "source": []
  }
 ]
}